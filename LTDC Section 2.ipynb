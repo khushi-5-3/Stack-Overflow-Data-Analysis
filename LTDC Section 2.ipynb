{
 "cells": [
  {
   "cell_type": "markdown",
   "id": "d7af0df5",
   "metadata": {},
   "source": [
    "# Importing libraries:"
   ]
  },
  {
   "cell_type": "code",
   "execution_count": 1,
   "id": "193169c0",
   "metadata": {},
   "outputs": [],
   "source": [
    "import numpy as np\n",
    "import pandas as pd\n",
    "import sklearn\n",
    "import pandas as pd\n",
    "from sklearn import linear_model\n",
    "from sklearn.model_selection import train_test_split\n",
    "from sklearn.linear_model import LinearRegression"
   ]
  },
  {
   "cell_type": "markdown",
   "id": "51fd0d36",
   "metadata": {},
   "source": [
    "# Loading the Dataset:"
   ]
  },
  {
   "cell_type": "code",
   "execution_count": 2,
   "id": "5d8f6c27",
   "metadata": {},
   "outputs": [],
   "source": [
    "data=pd.read_csv(\"C:\\\\Users\\\\227475\\OneDrive\\\\Desktop\\\\LTDC Project\\\\survey_results_public.csv\")"
   ]
  },
  {
   "cell_type": "code",
   "execution_count": 3,
   "id": "672bb66b",
   "metadata": {},
   "outputs": [
    {
     "data": {
      "text/html": [
       "<div>\n",
       "<style scoped>\n",
       "    .dataframe tbody tr th:only-of-type {\n",
       "        vertical-align: middle;\n",
       "    }\n",
       "\n",
       "    .dataframe tbody tr th {\n",
       "        vertical-align: top;\n",
       "    }\n",
       "\n",
       "    .dataframe thead th {\n",
       "        text-align: right;\n",
       "    }\n",
       "</style>\n",
       "<table border=\"1\" class=\"dataframe\">\n",
       "  <thead>\n",
       "    <tr style=\"text-align: right;\">\n",
       "      <th></th>\n",
       "      <th>Respondent</th>\n",
       "      <th>MainBranch</th>\n",
       "      <th>Hobbyist</th>\n",
       "      <th>Age</th>\n",
       "      <th>Age1stCode</th>\n",
       "      <th>CompFreq</th>\n",
       "      <th>CompTotal</th>\n",
       "      <th>ConvertedComp</th>\n",
       "      <th>Country</th>\n",
       "      <th>CurrencyDesc</th>\n",
       "      <th>...</th>\n",
       "      <th>SurveyEase</th>\n",
       "      <th>SurveyLength</th>\n",
       "      <th>Trans</th>\n",
       "      <th>UndergradMajor</th>\n",
       "      <th>WebframeDesireNextYear</th>\n",
       "      <th>WebframeWorkedWith</th>\n",
       "      <th>WelcomeChange</th>\n",
       "      <th>WorkWeekHrs</th>\n",
       "      <th>YearsCode</th>\n",
       "      <th>YearsCodePro</th>\n",
       "    </tr>\n",
       "  </thead>\n",
       "  <tbody>\n",
       "    <tr>\n",
       "      <th>0</th>\n",
       "      <td>1</td>\n",
       "      <td>I am a developer by profession</td>\n",
       "      <td>Yes</td>\n",
       "      <td>NaN</td>\n",
       "      <td>13</td>\n",
       "      <td>Monthly</td>\n",
       "      <td>NaN</td>\n",
       "      <td>NaN</td>\n",
       "      <td>Germany</td>\n",
       "      <td>European Euro</td>\n",
       "      <td>...</td>\n",
       "      <td>Neither easy nor difficult</td>\n",
       "      <td>Appropriate in length</td>\n",
       "      <td>No</td>\n",
       "      <td>Computer science, computer engineering, or sof...</td>\n",
       "      <td>ASP.NET Core</td>\n",
       "      <td>ASP.NET;ASP.NET Core</td>\n",
       "      <td>Just as welcome now as I felt last year</td>\n",
       "      <td>50.0</td>\n",
       "      <td>36</td>\n",
       "      <td>27</td>\n",
       "    </tr>\n",
       "    <tr>\n",
       "      <th>1</th>\n",
       "      <td>2</td>\n",
       "      <td>I am a developer by profession</td>\n",
       "      <td>No</td>\n",
       "      <td>NaN</td>\n",
       "      <td>19</td>\n",
       "      <td>NaN</td>\n",
       "      <td>NaN</td>\n",
       "      <td>NaN</td>\n",
       "      <td>United Kingdom</td>\n",
       "      <td>Pound sterling</td>\n",
       "      <td>...</td>\n",
       "      <td>NaN</td>\n",
       "      <td>NaN</td>\n",
       "      <td>NaN</td>\n",
       "      <td>Computer science, computer engineering, or sof...</td>\n",
       "      <td>NaN</td>\n",
       "      <td>NaN</td>\n",
       "      <td>Somewhat more welcome now than last year</td>\n",
       "      <td>NaN</td>\n",
       "      <td>7</td>\n",
       "      <td>4</td>\n",
       "    </tr>\n",
       "    <tr>\n",
       "      <th>2</th>\n",
       "      <td>3</td>\n",
       "      <td>I code primarily as a hobby</td>\n",
       "      <td>Yes</td>\n",
       "      <td>NaN</td>\n",
       "      <td>15</td>\n",
       "      <td>NaN</td>\n",
       "      <td>NaN</td>\n",
       "      <td>NaN</td>\n",
       "      <td>Russian Federation</td>\n",
       "      <td>NaN</td>\n",
       "      <td>...</td>\n",
       "      <td>Neither easy nor difficult</td>\n",
       "      <td>Appropriate in length</td>\n",
       "      <td>NaN</td>\n",
       "      <td>NaN</td>\n",
       "      <td>NaN</td>\n",
       "      <td>NaN</td>\n",
       "      <td>Somewhat more welcome now than last year</td>\n",
       "      <td>NaN</td>\n",
       "      <td>4</td>\n",
       "      <td>NaN</td>\n",
       "    </tr>\n",
       "    <tr>\n",
       "      <th>3</th>\n",
       "      <td>4</td>\n",
       "      <td>I am a developer by profession</td>\n",
       "      <td>Yes</td>\n",
       "      <td>25.0</td>\n",
       "      <td>18</td>\n",
       "      <td>NaN</td>\n",
       "      <td>NaN</td>\n",
       "      <td>NaN</td>\n",
       "      <td>Albania</td>\n",
       "      <td>Albanian lek</td>\n",
       "      <td>...</td>\n",
       "      <td>NaN</td>\n",
       "      <td>NaN</td>\n",
       "      <td>No</td>\n",
       "      <td>Computer science, computer engineering, or sof...</td>\n",
       "      <td>NaN</td>\n",
       "      <td>NaN</td>\n",
       "      <td>Somewhat less welcome now than last year</td>\n",
       "      <td>40.0</td>\n",
       "      <td>7</td>\n",
       "      <td>4</td>\n",
       "    </tr>\n",
       "    <tr>\n",
       "      <th>4</th>\n",
       "      <td>5</td>\n",
       "      <td>I used to be a developer by profession, but no...</td>\n",
       "      <td>Yes</td>\n",
       "      <td>31.0</td>\n",
       "      <td>16</td>\n",
       "      <td>NaN</td>\n",
       "      <td>NaN</td>\n",
       "      <td>NaN</td>\n",
       "      <td>United States</td>\n",
       "      <td>NaN</td>\n",
       "      <td>...</td>\n",
       "      <td>Easy</td>\n",
       "      <td>Too short</td>\n",
       "      <td>No</td>\n",
       "      <td>Computer science, computer engineering, or sof...</td>\n",
       "      <td>Django;Ruby on Rails</td>\n",
       "      <td>Ruby on Rails</td>\n",
       "      <td>Just as welcome now as I felt last year</td>\n",
       "      <td>NaN</td>\n",
       "      <td>15</td>\n",
       "      <td>8</td>\n",
       "    </tr>\n",
       "  </tbody>\n",
       "</table>\n",
       "<p>5 rows × 61 columns</p>\n",
       "</div>"
      ],
      "text/plain": [
       "   Respondent                                         MainBranch Hobbyist  \\\n",
       "0           1                     I am a developer by profession      Yes   \n",
       "1           2                     I am a developer by profession       No   \n",
       "2           3                        I code primarily as a hobby      Yes   \n",
       "3           4                     I am a developer by profession      Yes   \n",
       "4           5  I used to be a developer by profession, but no...      Yes   \n",
       "\n",
       "    Age Age1stCode CompFreq  CompTotal  ConvertedComp             Country  \\\n",
       "0   NaN         13  Monthly        NaN            NaN             Germany   \n",
       "1   NaN         19      NaN        NaN            NaN      United Kingdom   \n",
       "2   NaN         15      NaN        NaN            NaN  Russian Federation   \n",
       "3  25.0         18      NaN        NaN            NaN             Albania   \n",
       "4  31.0         16      NaN        NaN            NaN       United States   \n",
       "\n",
       "     CurrencyDesc  ...                  SurveyEase           SurveyLength  \\\n",
       "0   European Euro  ...  Neither easy nor difficult  Appropriate in length   \n",
       "1  Pound sterling  ...                         NaN                    NaN   \n",
       "2             NaN  ...  Neither easy nor difficult  Appropriate in length   \n",
       "3    Albanian lek  ...                         NaN                    NaN   \n",
       "4             NaN  ...                        Easy              Too short   \n",
       "\n",
       "  Trans                                     UndergradMajor  \\\n",
       "0    No  Computer science, computer engineering, or sof...   \n",
       "1   NaN  Computer science, computer engineering, or sof...   \n",
       "2   NaN                                                NaN   \n",
       "3    No  Computer science, computer engineering, or sof...   \n",
       "4    No  Computer science, computer engineering, or sof...   \n",
       "\n",
       "  WebframeDesireNextYear    WebframeWorkedWith  \\\n",
       "0           ASP.NET Core  ASP.NET;ASP.NET Core   \n",
       "1                    NaN                   NaN   \n",
       "2                    NaN                   NaN   \n",
       "3                    NaN                   NaN   \n",
       "4   Django;Ruby on Rails         Ruby on Rails   \n",
       "\n",
       "                              WelcomeChange WorkWeekHrs YearsCode YearsCodePro  \n",
       "0   Just as welcome now as I felt last year        50.0        36           27  \n",
       "1  Somewhat more welcome now than last year         NaN         7            4  \n",
       "2  Somewhat more welcome now than last year         NaN         4          NaN  \n",
       "3  Somewhat less welcome now than last year        40.0         7            4  \n",
       "4   Just as welcome now as I felt last year         NaN        15            8  \n",
       "\n",
       "[5 rows x 61 columns]"
      ]
     },
     "execution_count": 3,
     "metadata": {},
     "output_type": "execute_result"
    }
   ],
   "source": [
    "data.head()"
   ]
  },
  {
   "cell_type": "markdown",
   "id": "f40b1a3f",
   "metadata": {},
   "source": [
    "# Cleaning the Dataset:"
   ]
  },
  {
   "cell_type": "code",
   "execution_count": 4,
   "id": "53386d2a",
   "metadata": {},
   "outputs": [
    {
     "name": "stdout",
     "output_type": "stream",
     "text": [
      "475.0\n"
     ]
    },
    {
     "data": {
      "text/plain": [
       "84.0"
      ]
     },
     "execution_count": 4,
     "metadata": {},
     "output_type": "execute_result"
    }
   ],
   "source": [
    "print(data.WorkWeekHrs.max())\n",
    "wronghours = data[data['WorkWeekHrs']>=85].index\n",
    "data.drop(wronghours , inplace=True)\n",
    "(data.WorkWeekHrs.max())"
   ]
  },
  {
   "cell_type": "code",
   "execution_count": 5,
   "id": "7b45f90d",
   "metadata": {},
   "outputs": [
    {
     "name": "stdout",
     "output_type": "stream",
     "text": [
      "64188\n",
      "64187\n"
     ]
    }
   ],
   "source": [
    "print(data.shape[0])\n",
    "wrongage = data[data['Age']>=115].index\n",
    "data.drop(wrongage , inplace=True)\n",
    "print(data.shape[0])"
   ]
  },
  {
   "cell_type": "code",
   "execution_count": 6,
   "id": "f2e6ccee",
   "metadata": {},
   "outputs": [
    {
     "name": "stdout",
     "output_type": "stream",
     "text": [
      "64187\n",
      "49414\n"
     ]
    }
   ],
   "source": [
    "print(data.shape[0])\n",
    "wrongyears = data[data['YearsCodePro']>data['YearsCode']].index\n",
    "data.drop(wrongyears, inplace=True)\n",
    "print(data.shape[0])"
   ]
  },
  {
   "cell_type": "code",
   "execution_count": 7,
   "id": "f1f7c5de",
   "metadata": {},
   "outputs": [],
   "source": [
    "data['Age1stCode'] = np.where((data.Age1stCode=='Younger than 5 years'), '4', data.Age1stCode)\n",
    "data['Age1stCode'] = np.where((data.Age1stCode=='Older than 85'), '86', data.Age1stCode)\n",
    "data[['Age1stCode']] = data[['Age1stCode']].astype(float)\n",
    "data['Age1stCode'].fillna((data['Age1stCode'].mean()), inplace=True)"
   ]
  },
  {
   "cell_type": "code",
   "execution_count": 8,
   "id": "e28ffe77",
   "metadata": {},
   "outputs": [],
   "source": [
    "data['YearsCodePro'] = np.where((data.YearsCodePro=='Less than 1 year'), '0', data.YearsCodePro)\n",
    "data['YearsCodePro'] = np.where((data.YearsCodePro=='More than 50 years'), '50', data.YearsCodePro)\n",
    "data[['YearsCodePro']] = data[['YearsCodePro']].astype(float)\n"
   ]
  },
  {
   "cell_type": "code",
   "execution_count": 9,
   "id": "24265929",
   "metadata": {},
   "outputs": [],
   "source": [
    "data['YearsCode'] = np.where((data.YearsCode=='Less than 1 year'), '0', data.YearsCode)\n",
    "data['YearsCode'] = np.where((data.YearsCode=='More than 50 years'), '50', data.YearsCode)\n",
    "data[['YearsCode']] = data[['YearsCode']].astype(float)\n"
   ]
  },
  {
   "cell_type": "code",
   "execution_count": 10,
   "id": "4ab9e40c",
   "metadata": {},
   "outputs": [
    {
     "name": "stdout",
     "output_type": "stream",
     "text": [
      "49414\n",
      "49279\n"
     ]
    }
   ],
   "source": [
    "print(data.shape[0])\n",
    "wrongyears = data[data['YearsCodePro']>data['YearsCode']].index\n",
    "data.drop(wrongyears, inplace=True)\n",
    "print(data.shape[0])"
   ]
  },
  {
   "cell_type": "code",
   "execution_count": 11,
   "id": "ac5c4a54",
   "metadata": {},
   "outputs": [
    {
     "name": "stdout",
     "output_type": "stream",
     "text": [
      "49279\n",
      "49266\n"
     ]
    }
   ],
   "source": [
    "print(data.shape[0])\n",
    "wrongyears = data[data['YearsCode']>data['Age']].index\n",
    "data.drop(wrongyears, inplace=True)\n",
    "print(data.shape[0])"
   ]
  },
  {
   "cell_type": "code",
   "execution_count": 12,
   "id": "1a1c0d66",
   "metadata": {},
   "outputs": [
    {
     "name": "stdout",
     "output_type": "stream",
     "text": [
      "49266\n",
      "49245\n"
     ]
    }
   ],
   "source": [
    "print(data.shape[0])\n",
    "wrongyears = data[data['Age1stCode']>data['Age']].index\n",
    "data.drop(wrongyears, inplace=True)\n",
    "print(data.shape[0])"
   ]
  },
  {
   "cell_type": "code",
   "execution_count": 13,
   "id": "a7c6dae2",
   "metadata": {},
   "outputs": [],
   "source": [
    "data['YearsCodePro'].fillna((data['YearsCodePro'].mean()), inplace=True)\n",
    "data['Age'].fillna((data['Age'].mean()), inplace=True)\n",
    "data['WorkWeekHrs'].fillna((data['WorkWeekHrs'].mean()), inplace=True)\n",
    "data['YearsCode'].fillna((data['YearsCode'].mean()), inplace=True)"
   ]
  },
  {
   "cell_type": "code",
   "execution_count": 14,
   "id": "6c22a691",
   "metadata": {},
   "outputs": [],
   "source": [
    "data[['Age1stCode']] = data[['Age1stCode']].astype(int)\n",
    "data[['Age']]=data[['Age']].astype(int)\n",
    "data[['YearsCodePro']] = data[['YearsCodePro']].astype(int)\n",
    "data[['WorkWeekHrs']]=data[['WorkWeekHrs']].astype(int)\n",
    "data[['YearsCode']] = data[['YearsCode']].astype(int)"
   ]
  },
  {
   "cell_type": "code",
   "execution_count": 15,
   "id": "e92485e3",
   "metadata": {},
   "outputs": [
    {
     "name": "stdout",
     "output_type": "stream",
     "text": [
      "49245\n",
      "39809\n"
     ]
    }
   ],
   "source": [
    "print(data.shape[0])\n",
    "wrongyears = data[data['YearsCodePro']>data['YearsCode']].index\n",
    "data.drop(wrongyears, inplace=True)\n",
    "print(data.shape[0])"
   ]
  },
  {
   "cell_type": "code",
   "execution_count": 16,
   "id": "a5c96ecb",
   "metadata": {},
   "outputs": [
    {
     "name": "stdout",
     "output_type": "stream",
     "text": [
      "39809\n",
      "39616\n"
     ]
    }
   ],
   "source": [
    "print(data.shape[0])\n",
    "wrongyears = data[data['YearsCodePro']>data['Age']].index\n",
    "data.drop(wrongyears, inplace=True)\n",
    "print(data.shape[0])"
   ]
  },
  {
   "cell_type": "code",
   "execution_count": 17,
   "id": "f5a932a0",
   "metadata": {},
   "outputs": [
    {
     "name": "stdout",
     "output_type": "stream",
     "text": [
      "39616\n",
      "39141\n"
     ]
    }
   ],
   "source": [
    "print(data.shape[0])\n",
    "wrongyears = data[data['YearsCode']>data['Age']].index\n",
    "data.drop(wrongyears, inplace=True)\n",
    "print(data.shape[0])"
   ]
  },
  {
   "cell_type": "code",
   "execution_count": 18,
   "id": "28ecba83",
   "metadata": {},
   "outputs": [
    {
     "name": "stdout",
     "output_type": "stream",
     "text": [
      "39141\n",
      "39056\n"
     ]
    }
   ],
   "source": [
    "print(data.shape[0])\n",
    "wrongyears = data[data['Age1stCode']>data['Age']].index\n",
    "data.drop(wrongyears, inplace=True)\n",
    "print(data.shape[0])"
   ]
  },
  {
   "cell_type": "markdown",
   "id": "7f3d0eb6",
   "metadata": {},
   "source": [
    "# Buliding The Model:"
   ]
  },
  {
   "cell_type": "code",
   "execution_count": 19,
   "id": "0c48d58a",
   "metadata": {},
   "outputs": [],
   "source": [
    "data=data[['Age','YearsCode','YearsCodePro']]"
   ]
  },
  {
   "cell_type": "code",
   "execution_count": 20,
   "id": "8891a9a1",
   "metadata": {},
   "outputs": [],
   "source": [
    "# importing train_test_split from sklearn\n",
    "from sklearn.model_selection import train_test_split\n",
    "  \n",
    "x=data['YearsCodePro']\n",
    "y=data['YearsCode']\n",
    "z=data['Age']\n",
    "\n",
    "# splitting the data\n",
    "x_train, x_test, y_train, y_test = train_test_split(x, y, test_size = 0.2, random_state = 42, shuffle=True)\n",
    "z_train, z_test, y_train, y_test = train_test_split(x, z, test_size = 0.2, random_state = 42, shuffle=True)"
   ]
  },
  {
   "cell_type": "code",
   "execution_count": 21,
   "id": "081b75f2",
   "metadata": {},
   "outputs": [
    {
     "name": "stdout",
     "output_type": "stream",
     "text": [
      "x_train : \n",
      "39412    10\n",
      "33340    14\n",
      "60664    10\n",
      "35584    10\n",
      "64152    20\n",
      "Name: YearsCodePro, dtype: int32\n",
      "\n",
      "x_test : \n",
      "7969     10\n",
      "62724     5\n",
      "34489     4\n",
      "41963    10\n",
      "25074    14\n",
      "Name: YearsCodePro, dtype: int32\n",
      "\n",
      "y_train : \n",
      "39412    31\n",
      "33340    35\n",
      "60664    18\n",
      "35584    31\n",
      "64152    41\n",
      "Name: Age, dtype: int32\n",
      "\n",
      "y_test : \n",
      "7969     33\n",
      "62724    31\n",
      "34489    24\n",
      "41963    31\n",
      "25074    33\n",
      "Name: Age, dtype: int32\n"
     ]
    }
   ],
   "source": [
    "print('x_train : ')\n",
    "print(x_train.head())\n",
    "print('')\n",
    "print('x_test : ')\n",
    "print(x_test.head())\n",
    "print('')\n",
    "print('y_train : ')\n",
    "print(y_train.head())\n",
    "print('')\n",
    "print('y_test : ')\n",
    "print(y_test.head())"
   ]
  },
  {
   "cell_type": "code",
   "execution_count": 22,
   "id": "4823379c",
   "metadata": {},
   "outputs": [],
   "source": [
    "regressor = LinearRegression()"
   ]
  },
  {
   "cell_type": "code",
   "execution_count": 23,
   "id": "dbf0b3d3",
   "metadata": {},
   "outputs": [],
   "source": [
    "x_train=data.iloc[:, 0].values\n",
    "y_train=data.iloc[:, 1].values\n",
    "x_test=data.iloc[:, 0].values\n",
    "y_test=data.iloc[:, 1].values\n",
    "x_train=x_train.reshape(-1,1)\n",
    "y_train=y_train.reshape(-1,1)\n",
    "x_test=x_test.reshape(-1,1)\n",
    "y_test=y_test.reshape(-1,1)"
   ]
  },
  {
   "cell_type": "code",
   "execution_count": 25,
   "id": "17807c5f",
   "metadata": {},
   "outputs": [
    {
     "name": "stdout",
     "output_type": "stream",
     "text": [
      "[[12.67995529]\n",
      " [ 7.13198441]\n",
      " [12.67995529]\n",
      " ...\n",
      " [12.67995529]\n",
      " [12.67995529]\n",
      " [12.67995529]]\n"
     ]
    }
   ],
   "source": [
    "print(regressor.predict(x_test))"
   ]
  },
  {
   "cell_type": "code",
   "execution_count": 26,
   "id": "13c3faca",
   "metadata": {},
   "outputs": [
    {
     "data": {
      "text/plain": [
       "0.6361778283405097"
      ]
     },
     "execution_count": 26,
     "metadata": {},
     "output_type": "execute_result"
    }
   ],
   "source": [
    "regressor.score(x_test,y_test)"
   ]
  }
 ],
 "metadata": {
  "kernelspec": {
   "display_name": "Python 3 (ipykernel)",
   "language": "python",
   "name": "python3"
  },
  "language_info": {
   "codemirror_mode": {
    "name": "ipython",
    "version": 3
   },
   "file_extension": ".py",
   "mimetype": "text/x-python",
   "name": "python",
   "nbconvert_exporter": "python",
   "pygments_lexer": "ipython3",
   "version": "3.9.13"
  }
 },
 "nbformat": 4,
 "nbformat_minor": 5
}
